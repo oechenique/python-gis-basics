{
  "nbformat": 4,
  "nbformat_minor": 0,
  "metadata": {
    "colab": {
      "provenance": []
    },
    "kernelspec": {
      "name": "python3",
      "display_name": "Python 3"
    },
    "language_info": {
      "name": "python"
    }
  },
  "cells": [
    {
      "cell_type": "markdown",
      "source": [
        "# 📊 Working with Data: The Explorer's Data Journal 🗺️\n",
        "\n",
        "## The Data Explorer's Guide to pandas 🐼\n",
        "\n",
        "### Why Master Data Handling? 🤔\n",
        "Just as explorers need to document their discoveries, GIS analysts need to master data handling:\n",
        "* Data is your field journal of the digital world\n",
        "* pandas is your trusted cartographer's toolkit\n",
        "* Clean data is like a well-maintained trail map\n",
        "* Organized data makes your expeditions more successful"
      ],
      "metadata": {
        "id": "qINnCiCoCje3"
      }
    },
    {
      "cell_type": "markdown",
      "source": [
        "### 1. Meeting Your New Companion: pandas 🐼\n",
        "\n",
        "#### What's in Your Explorer's Toolkit?"
      ],
      "metadata": {
        "id": "C_jxINRcCmEj"
      }
    },
    {
      "cell_type": "code",
      "source": [
        "import pandas as pd  # Your trusted data companion\n",
        "\n",
        "# Your first expedition log\n",
        "expedition_data = {\n",
        "    'Location': ['Andes Peak', 'Amazon Basin', 'Coastal Point'],\n",
        "    'Coordinates': [(-32.653, -70.011), (-3.465, -62.215), (-12.043, -77.028)],\n",
        "    'Elevation_m': [4200, 150, 25],\n",
        "    'Samples_Collected': [15, 23, 8]\n",
        "}\n",
        "\n",
        "# Create your digital field journal\n",
        "field_journal = pd.DataFrame(expedition_data)\n",
        "print(\"📔 Field Journal Entry:\\n\", field_journal)"
      ],
      "metadata": {
        "id": "MRIhHSWEIRDX"
      },
      "execution_count": null,
      "outputs": []
    },
    {
      "cell_type": "markdown",
      "source": [
        "#### Field Notes (Key Concepts) 📝\n",
        "* DataFrames are your digital field journals\n",
        "* Columns represent different observations\n",
        "* Rows are individual expedition records\n",
        "* Index helps you quickly locate information"
      ],
      "metadata": {
        "id": "gEqrp4OOIUMw"
      }
    },
    {
      "cell_type": "markdown",
      "source": [
        "### 2. Gathering Your Data 📥\n",
        "\n",
        "#### Loading Data from Various Sources"
      ],
      "metadata": {
        "id": "1tg6lxMLCo3-"
      }
    },
    {
      "cell_type": "code",
      "source": [
        "# Reading expedition logs\n",
        "field_data = pd.read_csv('expedition_data.csv')\n",
        "camp_locations = pd.read_excel('camp_locations.xlsx')\n",
        "sensor_readings = pd.read_json('sensor_data.json')\n",
        "\n",
        "# Quick data reconnaissance\n",
        "print(\"📊 Data Overview:\\n\", field_data.head())\n",
        "print(\"\\n📈 Quick Stats:\\n\", field_data.describe())"
      ],
      "metadata": {
        "id": "j5aowu7wCqzb"
      },
      "execution_count": null,
      "outputs": []
    },
    {
      "cell_type": "markdown",
      "source": [
        "### 3. Data Cleaning: Making Your Maps Accurate 🧹\n",
        "\n",
        "#### Dealing with Missing Readings"
      ],
      "metadata": {
        "id": "-LoQ_w1eCsjv"
      }
    },
    {
      "cell_type": "code",
      "source": [
        "# Check for missing readings\n",
        "def inspect_data_quality(data):\n",
        "    \"\"\"Check the quality of expedition data\"\"\"\n",
        "    print(\"🔍 Missing Readings Report:\")\n",
        "    print(data.isnull().sum())\n",
        "\n",
        "    print(\"\\n⚠️ Data Completeness:\")\n",
        "    print(f\"Complete Records: {len(data.dropna())}\")\n",
        "    print(f\"Total Records: {len(data)}\")\n",
        "\n",
        "# Clean your data\n",
        "clean_data = field_data.copy()\n",
        "clean_data['Elevation_m'].fillna(clean_data['Elevation_m'].mean(), inplace=True)\n",
        "clean_data['Notes'].fillna('No additional observations', inplace=True)"
      ],
      "metadata": {
        "id": "vS90cM6gCx8O"
      },
      "execution_count": null,
      "outputs": []
    },
    {
      "cell_type": "markdown",
      "source": [
        "### 4. Data Transformation: Charting New Territories 🗺️\n",
        "\n",
        "#### Creating New Insights"
      ],
      "metadata": {
        "id": "THtQsiJ_C1Z-"
      }
    },
    {
      "cell_type": "code",
      "source": [
        "# Add calculated columns\n",
        "def enrich_expedition_data(data):\n",
        "    \"\"\"Enrich your expedition data with new insights\"\"\"\n",
        "    data['Elevation_Category'] = pd.cut(data['Elevation_m'],\n",
        "        bins=[0, 500, 2000, 5000],\n",
        "        labels=['Low', 'Medium', 'High'])\n",
        "\n",
        "    data['Sample_Density'] = data['Samples_Collected'] / data['Area_km2']\n",
        "    return data\n",
        "\n",
        "# Transform coordinates into a GIS-friendly format\n",
        "data['Geometry'] = data.apply(\n",
        "    lambda row: f\"POINT({row['Longitude']} {row['Latitude']})\",\n",
        "    axis=1\n",
        ")"
      ],
      "metadata": {
        "id": "LyKkzpSAC7U7"
      },
      "execution_count": null,
      "outputs": []
    },
    {
      "cell_type": "markdown",
      "source": [
        "### 5. Data Analysis: Understanding Your Territory 📈\n",
        "\n",
        "#### Exploring Your Data"
      ],
      "metadata": {
        "id": "lZBPHpObDB_3"
      }
    },
    {
      "cell_type": "code",
      "source": [
        "# Analyze your expedition findings\n",
        "def analyze_expedition_results(data):\n",
        "    \"\"\"Generate summary of expedition findings\"\"\"\n",
        "    results = {\n",
        "        'Total_Sites': len(data),\n",
        "        'Avg_Elevation': data['Elevation_m'].mean(),\n",
        "        'Total_Samples': data['Samples_Collected'].sum(),\n",
        "        'Sites_by_Category': data['Elevation_Category'].value_counts()\n",
        "    }\n",
        "    return results\n",
        "\n",
        "# Group data by region\n",
        "regional_summary = field_data.groupby('Region').agg({\n",
        "    'Samples_Collected': 'sum',\n",
        "    'Elevation_m': 'mean',\n",
        "    'Area_km2': 'sum'\n",
        "}).round(2)"
      ],
      "metadata": {
        "id": "-pJIn_IuDDg5"
      },
      "execution_count": null,
      "outputs": []
    },
    {
      "cell_type": "markdown",
      "source": [
        "### 6. Exporting Your Discoveries 📤\n",
        "\n",
        "#### Saving Your Processed Data"
      ],
      "metadata": {
        "id": "_hES5-tnDIhq"
      }
    },
    {
      "cell_type": "code",
      "execution_count": null,
      "metadata": {
        "id": "u9xE2Va8Cf7C"
      },
      "outputs": [],
      "source": [
        "# Save your findings in various formats\n",
        "def export_expedition_data(data, base_name):\n",
        "    \"\"\"Export processed data in multiple formats\"\"\"\n",
        "    # CSV for general use\n",
        "    data.to_csv(f\"{base_name}.csv\", index=False)\n",
        "\n",
        "    # Excel with multiple sheets\n",
        "    with pd.ExcelWriter(f\"{base_name}.xlsx\") as writer:\n",
        "        data.to_excel(writer, sheet_name='Raw_Data')\n",
        "        data.describe().to_excel(writer, sheet_name='Summary_Stats')"
      ]
    },
    {
      "cell_type": "markdown",
      "source": [
        "### 7. Advanced Techniques: Expert Explorer Tools 🎯\n",
        "\n",
        "#### Working with Complex Data"
      ],
      "metadata": {
        "id": "CCi4MVngI3rM"
      }
    },
    {
      "cell_type": "code",
      "source": [
        "# Handling time series data\n",
        "def analyze_temporal_patterns(data):\n",
        "    \"\"\"Analyze patterns over time\"\"\"\n",
        "    monthly_samples = data.resample('M')['Samples_Collected'].sum()\n",
        "    seasonal_patterns = data.groupby(data['Date'].dt.season)['Samples_Collected'].mean()\n",
        "    return monthly_samples, seasonal_patterns"
      ],
      "metadata": {
        "id": "Bt7FYzHDI5rk"
      },
      "execution_count": null,
      "outputs": []
    },
    {
      "cell_type": "markdown",
      "source": [
        "### 8. Best Practices: The Explorer's Code 📋\n",
        "* Always make a copy before modifying data\n",
        "* Document your data cleaning steps\n",
        "* Use meaningful column names\n",
        "* Validate your results\n",
        "* Keep your raw data untouched\n",
        "* Create backup copies of processed data"
      ],
      "metadata": {
        "id": "HG0JsCQEI7WC"
      }
    },
    {
      "cell_type": "markdown",
      "source": [
        "### 9. Practice Expeditions 🎯\n",
        "1. Load and clean a dataset of your choice\n",
        "2. Create new calculated columns\n",
        "3. Perform basic statistical analysis\n",
        "4. Export data in multiple formats\n",
        "5. Create a data quality report"
      ],
      "metadata": {
        "id": "2u2El3afI9Xu"
      }
    },
    {
      "cell_type": "markdown",
      "source": [
        "### 10. Next Adventure Preview 🔭\n",
        "In our next notebook (03-Intro-to-GeoData.ipynb), we'll explore:\n",
        "* GeoPandas: Your spatial data compass\n",
        "* Geometry operations: Understanding shapes\n",
        "* Spatial analysis: Making sense of geography\n",
        "* Mapping: Visualizing your discoveries"
      ],
      "metadata": {
        "id": "Q4-Jay6GI_UE"
      }
    },
    {
      "cell_type": "markdown",
      "source": [
        "### Ready for More Advanced Explorations? 🚀\n",
        "Remember: Good data is the foundation of all GIS analysis. Take time to master these skills!"
      ],
      "metadata": {
        "id": "3M-riaoVJBQ3"
      }
    },
    {
      "cell_type": "code",
      "source": [
        "#@title Follow Me!\n",
        "%%html\n",
        "\n",
        "<div style=\"background: linear-gradient(90deg, #1a1a1a, #2d2d2d); color: white; padding: 2rem; border-radius: 10px; font-family: 'Roboto', sans-serif; margin-top: 2rem;\">\n",
        "    <h2 style=\"text-align: center; margin-bottom: 1rem;\">\n",
        "        <span style=\"display: block; color: white; font-size: 2.7rem; margin-bottom: 0.5rem;\">ありがとうございます！</span>\n",
        "        <span style=\"display: block; color: white; font-size: 1.8rem;\">🌍 Thank you for making it this far! 🎌</span>\n",
        "    </h2>\n",
        "\n",
        "    <p style=\"font-size: 1.2rem; margin-bottom: 1.5rem;\">If you're interested in the world of geoinformatics and want to keep learning, connect with me! | 一緒に学びましょう！</p>\n",
        "\n",
        "    <div style=\"display: flex; flex-wrap: wrap; gap: 1rem; margin-bottom: 1rem;\">\n",
        "        <a href=\"https://x.com/GastonEchenique\" target=\"_blank\" style=\"text-decoration: none; color: white; display: flex; align-items: center; background: #1DA1F2; padding: 0.5rem 1rem; border-radius: 5px; transition: transform 0.2s;\">\n",
        "            <svg style=\"width: 24px; height: 24px; margin-right: 0.5rem;\" viewBox=\"0 0 24 24\" fill=\"currentColor\">\n",
        "                <path d=\"M18.244 2.25h3.308l-7.227 8.26 8.502 11.24H16.17l-5.214-6.817L4.99 21.75H1.68l7.73-8.835L1.254 2.25H8.08l4.713 6.231zm-1.161 17.52h1.833L7.084 4.126H5.117z\"/>\n",
        "            </svg>\n",
        "            <span>@GastonEchenique</span>\n",
        "        </a>\n",
        "\n",
        "        <a href=\"https://www.linkedin.com/in/gaston-echenique/\" target=\"_blank\" style=\"text-decoration: none; color: white; display: flex; align-items: center; background: #0A66C2; padding: 0.5rem 1rem; border-radius: 5px; transition: transform 0.2s;\">\n",
        "            <svg style=\"width: 24px; height: 24px; margin-right: 0.5rem;\" viewBox=\"0 0 24 24\" fill=\"currentColor\">\n",
        "                <path d=\"M20.447 20.452h-3.554v-5.569c0-1.328-.027-3.037-1.852-3.037-1.853 0-2.136 1.445-2.136 2.939v5.667H9.351V9h3.414v1.561h.046c.477-.9 1.637-1.85 3.37-1.85 3.601 0 4.267 2.37 4.267 5.455v6.286zM5.337 7.433c-1.144 0-2.063-.926-2.063-2.065 0-1.138.92-2.063 2.063-2.063 1.14 0 2.064.925 2.064 2.063 0 1.139-.925 2.065-2.064 2.065zm1.782 13.019H3.555V9h3.564v11.452zM22.225 0H1.771C.792 0 0 .774 0 1.729v20.542C0 23.227.792 24 1.771 24h20.451C23.2 24 24 23.227 24 22.271V1.729C24 .774 23.2 0 22.222 0h.003z\"/>\n",
        "            </svg>\n",
        "            <span>Gastón Echenique</span>\n",
        "        </a>\n",
        "\n",
        "        <a href=\"https://github.com/oechenique\" target=\"_blank\" style=\"text-decoration: none; color: white; display: flex; align-items: center; background: #333; padding: 0.5rem 1rem; border-radius: 5px; transition: transform 0.2s;\">\n",
        "            <svg style=\"width: 24px; height: 24px; margin-right: 0.5rem;\" viewBox=\"0 0 24 24\" fill=\"currentColor\">\n",
        "                <path d=\"M12 0c-6.626 0-12 5.373-12 12 0 5.302 3.438 9.8 8.207 11.387.599.111.793-.261.793-.577v-2.234c-3.338.726-4.033-1.416-4.033-1.416-.546-1.387-1.333-1.756-1.333-1.756-1.089-.745.083-.729.083-.729 1.205.084 1.839 1.237 1.839 1.237 1.07 1.834 2.807 1.304 3.492.997.107-.775.418-1.305.762-1.604-2.665-.305-5.467-1.334-5.467-5.931 0-1.311.469-2.381 1.236-3.221-.124-.303-.535-1.524.117-3.176 0 0 1.008-.322 3.301 1.23.957-.266 1.983-.399 3.003-.404 1.02.005 2.047.138 3.006.404 2.291-1.552 3.297-1.23 3.297-1.23.653 1.653.242 2.874.118 3.176.77.84 1.235 1.911 1.235 3.221 0 4.609-2.807 5.624-5.479 5.921.43.372.823 1.102.823 2.222v3.293c0 .319.192.694.801.576 4.765-1.589 8.199-6.086 8.199-11.386 0-6.627-5.373-12-12-12z\"/>\n",
        "            </svg>\n",
        "            <span>oechenique</span>\n",
        "        </a>\n",
        "\n",
        "        <a href=\"https://oechenique.github.io/geoanalytics/\" target=\"_blank\" style=\"text-decoration: none; color: white; display: flex; align-items: center; background: #2ecc71; padding: 0.5rem 1rem; border-radius: 5px; transition: transform 0.2s;\">\n",
        "            <svg style=\"width: 24px; height: 24px; margin-right: 0.5rem;\" viewBox=\"0 0 24 24\" fill=\"currentColor\">\n",
        "                <path d=\"M12 0c-6.627 0-12 5.373-12 12s5.373 12 12 12 12-5.373 12-12-5.373-12-12-12zm1 16.057v-3.057h2.994c-.059 1.143-.212 2.24-.456 3.279-.823-.12-1.674-.188-2.538-.222zm1.957 2.162c-.499 1.33-1.159 2.497-1.957 3.456v-3.62c.666.028 1.319.081 1.957.164zm-1.957-7.219v-3.015c.868-.034 1.721-.103 2.548-.224.238 1.027.389 2.111.446 3.239h-2.994zm0-5.014v-3.661c.806.969 1.471 2.15 1.971 3.496-.642.084-1.3.137-1.971.165zm2.703-3.267c1.237.496 2.354 1.228 3.29 2.146-.642.234-1.311.442-2.019.607-.344-.992-.775-1.91-1.271-2.753zm-7.241 13.56c-.244-1.039-.398-2.136-.456-3.279h2.994v3.057c-.865.034-1.714.102-2.538.222zm2.538 1.776v3.62c-.798-.959-1.458-2.126-1.957-3.456.638-.083 1.291-.136 1.957-.164zm-2.994-7.055c.057-1.128.207-2.212.446-3.239.827.121 1.68.19 2.548.224v3.015h-2.994zm1.024-5.179c.5-1.346 1.165-2.527 1.97-3.496v3.661c-.671-.028-1.329-.081-1.97-.165zm-2.005-.35c-.708-.165-1.377-.373-2.018-.607.937-.918 2.053-1.65 3.29-2.146-.496.844-.927 1.762-1.272 2.753zm-.549 1.918c-.264 1.151-.434 2.36-.492 3.611h-3.933c.165-1.658.739-3.197 1.617-4.518.88.361 1.816.67 2.808.907zm.009 9.262c-.988.236-1.92.542-2.797.9-.89-1.328-1.471-2.879-1.637-4.551h3.934c.058 1.265.231 2.488.5 3.651zm.553 1.917c.342.976.768 1.881 1.257 2.712-1.223-.49-2.326-1.211-3.256-2.115.636-.229 1.299-.435 1.999-.597zm9.924 0c.7.163 1.362.367 1.999.597-.931.903-2.034 1.625-3.257 2.116.489-.832.915-1.737 1.258-2.713zm.553-1.917c.27-1.163.442-2.386.501-3.651h3.934c-.167 1.672-.748 3.223-1.638 4.551-.877-.358-1.81-.664-2.797-.9zm.501-5.651c-.058-1.251-.229-2.46-.492-3.611.992-.237 1.929-.546 2.809-.907.877 1.321 1.451 2.86 1.616 4.518h-3.933z\"/>\n",
        "            </svg>\n",
        "            <span>GeoAnalytics</span>\n",
        "        </a>\n",
        "\n",
        "        <a href=\"https://discord.com/users/gastonechenique\" target=\"_blank\" style=\"text-decoration: none; color: white; display: flex; align-items: center; background: #5865F2; padding: 0.5rem 1rem; border-radius: 5px; transition: transform 0.2s;\">\n",
        "            <svg style=\"width: 24px; height: 24px; margin-right: 0.5rem;\" viewBox=\"0 0 24 24\" fill=\"currentColor\">\n",
        "                <path d=\"M20.317 4.37a19.791 19.791 0 0 0-4.885-1.515a.074.074 0 0 0-.079.037c-.21.375-.444.864-.608 1.25a18.27 18.27 0 0 0-5.487 0a12.64 12.64 0 0 0-.617-1.25a.077.077 0 0 0-.079-.037A19.736 19.736 0 0 0 3.677 4.37a.07.07 0 0 0-.032.027C.533 9.046-.32 13.58.099 18.057a.082.082 0 0 0 .031.057a19.9 19.9 0 0 0 5.993 3.03a.078.078 0 0 0 .084-.028a14.09 14.09 0 0 0 1.226-1.994a.076.076 0 0 0-.041-.106a13.107 13.107 0 0 1-1.872-.892a.077.077 0 0 1-.008-.128a10.2 10.2 0 0 0 .372-.292a.074.074 0 0 1 .077-.01c3.928 1.793 8.18 1.793 12.062 0a.074.074 0 0 1 .078.01c.12.098.246.198.373.292a.077.077 0 0 1-.006.127a12.299 12.299 0 0 1-1.873.892a.077.077 0 0 0-.041.107c.36.698.772 1.362 1.225 1.993a.076.076 0 0 0 .084.028a19.839 19.839 0 0 0 6.002-3.03a.077.077 0 0 0 .032-.054c.5-5.177-.838-9.674-3.549-13.66a.061.061 0 0 0-.031-.03zM8.02 15.33c-1.183 0-2.157-1.085-2.157-2.419c0-1.333.956-2.419 2.157-2.419c1.21 0 2.176 1.096 2.157 2.42c0 1.333-.956 2.418-2.157 2.418zm7.975 0c-1.183 0-2.157-1.085-2.157-2.419c0-1.333.955-2.419 2.157-2.419c1.21 0 2.176 1.096 2.157 2.42c0 1.333-.946 2.418-2.157 2.418z\"/>\n",
        "            </svg>\n",
        "            <span>Gaston | ガストン</span>\n",
        "        </a>\n",
        "    </div>\n",
        "\n",
        "    <p style=\"font-size: 1rem; color: #888;\">💡 頑張りましょう！Don't miss more content about GIS, Data Science and Geoinformatics!</p>\n",
        "\n",
        "    <div style=\"margin-top: 1rem; padding-top: 1rem; border-top: 1px solid #444; font-size: 0.9rem; color: #666;\">\n",
        "        Made with 🗺️ & 💻 by Gaston Echenique | エチェニケ・ガストン\n",
        "    </div>\n",
        "</div>"
      ],
      "metadata": {
        "colab": {
          "base_uri": "https://localhost:8080/",
          "height": 418
        },
        "cellView": "form",
        "id": "OuUee_cuJGeT",
        "outputId": "0f5e16de-9468-4287-f634-8c20573d7ba9"
      },
      "execution_count": 1,
      "outputs": [
        {
          "output_type": "display_data",
          "data": {
            "text/plain": [
              "<IPython.core.display.HTML object>"
            ],
            "text/html": [
              "\n",
              "<div style=\"background: linear-gradient(90deg, #1a1a1a, #2d2d2d); color: white; padding: 2rem; border-radius: 10px; font-family: 'Roboto', sans-serif; margin-top: 2rem;\">\n",
              "    <h2 style=\"text-align: center; margin-bottom: 1rem;\">\n",
              "        <span style=\"display: block; color: white; font-size: 2.7rem; margin-bottom: 0.5rem;\">ありがとうございます！</span>\n",
              "        <span style=\"display: block; color: white; font-size: 1.8rem;\">🌍 Thank you for making it this far! 🎌</span>\n",
              "    </h2>\n",
              "\n",
              "    <p style=\"font-size: 1.2rem; margin-bottom: 1.5rem;\">If you're interested in the world of geoinformatics and want to keep learning, connect with me! | 一緒に学びましょう！</p>\n",
              "\n",
              "    <div style=\"display: flex; flex-wrap: wrap; gap: 1rem; margin-bottom: 1rem;\">\n",
              "        <a href=\"https://x.com/GastonEchenique\" target=\"_blank\" style=\"text-decoration: none; color: white; display: flex; align-items: center; background: #1DA1F2; padding: 0.5rem 1rem; border-radius: 5px; transition: transform 0.2s;\">\n",
              "            <svg style=\"width: 24px; height: 24px; margin-right: 0.5rem;\" viewBox=\"0 0 24 24\" fill=\"currentColor\">\n",
              "                <path d=\"M18.244 2.25h3.308l-7.227 8.26 8.502 11.24H16.17l-5.214-6.817L4.99 21.75H1.68l7.73-8.835L1.254 2.25H8.08l4.713 6.231zm-1.161 17.52h1.833L7.084 4.126H5.117z\"/>\n",
              "            </svg>\n",
              "            <span>@GastonEchenique</span>\n",
              "        </a>\n",
              "\n",
              "        <a href=\"https://www.linkedin.com/in/gaston-echenique/\" target=\"_blank\" style=\"text-decoration: none; color: white; display: flex; align-items: center; background: #0A66C2; padding: 0.5rem 1rem; border-radius: 5px; transition: transform 0.2s;\">\n",
              "            <svg style=\"width: 24px; height: 24px; margin-right: 0.5rem;\" viewBox=\"0 0 24 24\" fill=\"currentColor\">\n",
              "                <path d=\"M20.447 20.452h-3.554v-5.569c0-1.328-.027-3.037-1.852-3.037-1.853 0-2.136 1.445-2.136 2.939v5.667H9.351V9h3.414v1.561h.046c.477-.9 1.637-1.85 3.37-1.85 3.601 0 4.267 2.37 4.267 5.455v6.286zM5.337 7.433c-1.144 0-2.063-.926-2.063-2.065 0-1.138.92-2.063 2.063-2.063 1.14 0 2.064.925 2.064 2.063 0 1.139-.925 2.065-2.064 2.065zm1.782 13.019H3.555V9h3.564v11.452zM22.225 0H1.771C.792 0 0 .774 0 1.729v20.542C0 23.227.792 24 1.771 24h20.451C23.2 24 24 23.227 24 22.271V1.729C24 .774 23.2 0 22.222 0h.003z\"/>\n",
              "            </svg>\n",
              "            <span>Gastón Echenique</span>\n",
              "        </a>\n",
              "\n",
              "        <a href=\"https://github.com/oechenique\" target=\"_blank\" style=\"text-decoration: none; color: white; display: flex; align-items: center; background: #333; padding: 0.5rem 1rem; border-radius: 5px; transition: transform 0.2s;\">\n",
              "            <svg style=\"width: 24px; height: 24px; margin-right: 0.5rem;\" viewBox=\"0 0 24 24\" fill=\"currentColor\">\n",
              "                <path d=\"M12 0c-6.626 0-12 5.373-12 12 0 5.302 3.438 9.8 8.207 11.387.599.111.793-.261.793-.577v-2.234c-3.338.726-4.033-1.416-4.033-1.416-.546-1.387-1.333-1.756-1.333-1.756-1.089-.745.083-.729.083-.729 1.205.084 1.839 1.237 1.839 1.237 1.07 1.834 2.807 1.304 3.492.997.107-.775.418-1.305.762-1.604-2.665-.305-5.467-1.334-5.467-5.931 0-1.311.469-2.381 1.236-3.221-.124-.303-.535-1.524.117-3.176 0 0 1.008-.322 3.301 1.23.957-.266 1.983-.399 3.003-.404 1.02.005 2.047.138 3.006.404 2.291-1.552 3.297-1.23 3.297-1.23.653 1.653.242 2.874.118 3.176.77.84 1.235 1.911 1.235 3.221 0 4.609-2.807 5.624-5.479 5.921.43.372.823 1.102.823 2.222v3.293c0 .319.192.694.801.576 4.765-1.589 8.199-6.086 8.199-11.386 0-6.627-5.373-12-12-12z\"/>\n",
              "            </svg>\n",
              "            <span>oechenique</span>\n",
              "        </a>\n",
              "\n",
              "        <a href=\"https://oechenique.github.io/geoanalytics/\" target=\"_blank\" style=\"text-decoration: none; color: white; display: flex; align-items: center; background: #2ecc71; padding: 0.5rem 1rem; border-radius: 5px; transition: transform 0.2s;\">\n",
              "            <svg style=\"width: 24px; height: 24px; margin-right: 0.5rem;\" viewBox=\"0 0 24 24\" fill=\"currentColor\">\n",
              "                <path d=\"M12 0c-6.627 0-12 5.373-12 12s5.373 12 12 12 12-5.373 12-12-5.373-12-12-12zm1 16.057v-3.057h2.994c-.059 1.143-.212 2.24-.456 3.279-.823-.12-1.674-.188-2.538-.222zm1.957 2.162c-.499 1.33-1.159 2.497-1.957 3.456v-3.62c.666.028 1.319.081 1.957.164zm-1.957-7.219v-3.015c.868-.034 1.721-.103 2.548-.224.238 1.027.389 2.111.446 3.239h-2.994zm0-5.014v-3.661c.806.969 1.471 2.15 1.971 3.496-.642.084-1.3.137-1.971.165zm2.703-3.267c1.237.496 2.354 1.228 3.29 2.146-.642.234-1.311.442-2.019.607-.344-.992-.775-1.91-1.271-2.753zm-7.241 13.56c-.244-1.039-.398-2.136-.456-3.279h2.994v3.057c-.865.034-1.714.102-2.538.222zm2.538 1.776v3.62c-.798-.959-1.458-2.126-1.957-3.456.638-.083 1.291-.136 1.957-.164zm-2.994-7.055c.057-1.128.207-2.212.446-3.239.827.121 1.68.19 2.548.224v3.015h-2.994zm1.024-5.179c.5-1.346 1.165-2.527 1.97-3.496v3.661c-.671-.028-1.329-.081-1.97-.165zm-2.005-.35c-.708-.165-1.377-.373-2.018-.607.937-.918 2.053-1.65 3.29-2.146-.496.844-.927 1.762-1.272 2.753zm-.549 1.918c-.264 1.151-.434 2.36-.492 3.611h-3.933c.165-1.658.739-3.197 1.617-4.518.88.361 1.816.67 2.808.907zm.009 9.262c-.988.236-1.92.542-2.797.9-.89-1.328-1.471-2.879-1.637-4.551h3.934c.058 1.265.231 2.488.5 3.651zm.553 1.917c.342.976.768 1.881 1.257 2.712-1.223-.49-2.326-1.211-3.256-2.115.636-.229 1.299-.435 1.999-.597zm9.924 0c.7.163 1.362.367 1.999.597-.931.903-2.034 1.625-3.257 2.116.489-.832.915-1.737 1.258-2.713zm.553-1.917c.27-1.163.442-2.386.501-3.651h3.934c-.167 1.672-.748 3.223-1.638 4.551-.877-.358-1.81-.664-2.797-.9zm.501-5.651c-.058-1.251-.229-2.46-.492-3.611.992-.237 1.929-.546 2.809-.907.877 1.321 1.451 2.86 1.616 4.518h-3.933z\"/>\n",
              "            </svg>\n",
              "            <span>GeoAnalytics</span>\n",
              "        </a>\n",
              "\n",
              "        <a href=\"https://discord.com/users/gastonechenique\" target=\"_blank\" style=\"text-decoration: none; color: white; display: flex; align-items: center; background: #5865F2; padding: 0.5rem 1rem; border-radius: 5px; transition: transform 0.2s;\">\n",
              "            <svg style=\"width: 24px; height: 24px; margin-right: 0.5rem;\" viewBox=\"0 0 24 24\" fill=\"currentColor\">\n",
              "                <path d=\"M20.317 4.37a19.791 19.791 0 0 0-4.885-1.515a.074.074 0 0 0-.079.037c-.21.375-.444.864-.608 1.25a18.27 18.27 0 0 0-5.487 0a12.64 12.64 0 0 0-.617-1.25a.077.077 0 0 0-.079-.037A19.736 19.736 0 0 0 3.677 4.37a.07.07 0 0 0-.032.027C.533 9.046-.32 13.58.099 18.057a.082.082 0 0 0 .031.057a19.9 19.9 0 0 0 5.993 3.03a.078.078 0 0 0 .084-.028a14.09 14.09 0 0 0 1.226-1.994a.076.076 0 0 0-.041-.106a13.107 13.107 0 0 1-1.872-.892a.077.077 0 0 1-.008-.128a10.2 10.2 0 0 0 .372-.292a.074.074 0 0 1 .077-.01c3.928 1.793 8.18 1.793 12.062 0a.074.074 0 0 1 .078.01c.12.098.246.198.373.292a.077.077 0 0 1-.006.127a12.299 12.299 0 0 1-1.873.892a.077.077 0 0 0-.041.107c.36.698.772 1.362 1.225 1.993a.076.076 0 0 0 .084.028a19.839 19.839 0 0 0 6.002-3.03a.077.077 0 0 0 .032-.054c.5-5.177-.838-9.674-3.549-13.66a.061.061 0 0 0-.031-.03zM8.02 15.33c-1.183 0-2.157-1.085-2.157-2.419c0-1.333.956-2.419 2.157-2.419c1.21 0 2.176 1.096 2.157 2.42c0 1.333-.956 2.418-2.157 2.418zm7.975 0c-1.183 0-2.157-1.085-2.157-2.419c0-1.333.955-2.419 2.157-2.419c1.21 0 2.176 1.096 2.157 2.42c0 1.333-.946 2.418-2.157 2.418z\"/>\n",
              "            </svg>\n",
              "            <span>Gaston | ガストン</span>\n",
              "        </a>\n",
              "    </div>\n",
              "\n",
              "    <p style=\"font-size: 1rem; color: #888;\">💡 頑張りましょう！Don't miss more content about GIS, Data Science and Geoinformatics!</p>\n",
              "\n",
              "    <div style=\"margin-top: 1rem; padding-top: 1rem; border-top: 1px solid #444; font-size: 0.9rem; color: #666;\">\n",
              "        Made with 🗺️ & 💻 by Gaston Echenique | エチェニケ・ガストン\n",
              "    </div>\n",
              "</div>\n"
            ]
          },
          "metadata": {}
        }
      ]
    }
  ]
}